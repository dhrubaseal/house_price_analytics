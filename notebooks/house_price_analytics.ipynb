{
 "cells": [
  {
   "cell_type": "markdown",
   "metadata": {},
   "source": [
    "Find publicly available data for key factors that influence US home prices nationally. Then, build a data science model that explains how these factors impacted home prices over the last 20 years.\n",
    "Use the S&P Case-Schiller Home Price Index as a proxy for home prices:(fred.stlouisfed.org/series/CSUSHPISA)."
   ]
  },
  {
   "cell_type": "code",
   "execution_count": null,
   "metadata": {},
   "outputs": [],
   "source": [
    "import pandas as pd\n",
    "import matplotlib.pyplot as plt\n",
    "import seaborn as sns\n",
    "from sklearn.model_selection import train_test_split\n",
    "from sklearn.linear_model import LinearRegression\n",
    "from sklearn.metrics import mean_squared_error"
   ]
  },
  {
   "cell_type": "code",
   "execution_count": null,
   "metadata": {},
   "outputs": [],
   "source": [
    "home_prices_url = r'C:\\Personal_Projects\\projects\\Data Science\\house_price_analytics\\data\\CSUSHPISA.csv'\n",
    "mortgage_rates_url = r'C:\\Personal_Projects\\projects\\Data Science\\house_price_analytics\\data\\MORTGAGE30US.csv'\n",
    "unemployment_url = r'C:\\Personal_Projects\\projects\\Data Science\\house_price_analytics\\data\\UNRATE.csv'\n",
    "income_url = r'C:\\Personal_Projects\\projects\\Data Science\\house_price_analytics\\data\\MEHOINUSA672N.csv'\n",
    "housing_starts_url = r'C:\\Personal_Projects\\projects\\Data Science\\house_price_analytics\\data\\HOUST.csv'\n",
    "cpi_url = r'C:\\Personal_Projects\\projects\\Data Science\\house_price_analytics\\data\\CPIAUCSL.csv'"
   ]
  },
  {
   "cell_type": "code",
   "execution_count": null,
   "metadata": {},
   "outputs": [],
   "source": [
    "home_prices = pd.read_csv(home_prices_url, parse_dates=['DATE'], index_col='DATE')\n",
    "mortgage_rates = pd.read_csv(mortgage_rates_url, parse_dates=['DATE'], index_col='DATE')\n",
    "unemployment = pd.read_csv(unemployment_url, parse_dates=['DATE'], index_col='DATE')\n",
    "income = pd.read_csv(income_url, parse_dates=['DATE'], index_col='DATE')\n",
    "housing_starts = pd.read_csv(housing_starts_url, parse_dates=['DATE'], index_col='DATE')\n",
    "cpi = pd.read_csv(cpi_url, parse_dates=['DATE'], index_col='DATE')"
   ]
  },
  {
   "cell_type": "code",
   "execution_count": null,
   "metadata": {},
   "outputs": [],
   "source": [
    "print(income)"
   ]
  },
  {
   "cell_type": "code",
   "execution_count": null,
   "metadata": {},
   "outputs": [],
   "source": [
    "df = pd.merge(home_prices, mortgage_rates, on='DATE', how='inner')\n",
    "df = pd.merge(df, unemployment, on='DATE', how='inner')\n",
    "df = pd.merge(df, income, on='DATE', how='inner')\n",
    "print(df.head())"
   ]
  },
  {
   "cell_type": "code",
   "execution_count": null,
   "metadata": {},
   "outputs": [],
   "source": [
    "df = pd.merge(home_prices, mortgage_rates, on='DATE', how='inner')\n",
    "df = pd.merge(df, unemployment, on='DATE', how='inner')\n",
    "df = pd.merge(df, income, on='DATE', how='inner')\n",
    "df = pd.merge(df, housing_starts, on='DATE', how='inner')\n",
    "df = pd.merge(df, cpi, on='DATE', how='inner')\n",
    "\n",
    "df.columns = ['Home_Price_Index', 'Mortgage_Rate', 'Unemployment_Rate', 'Median_Income', 'Housing_Starts', 'CPI']\n"
   ]
  },
  {
   "cell_type": "code",
   "execution_count": null,
   "metadata": {},
   "outputs": [],
   "source": [
    "print(df.head())"
   ]
  },
  {
   "cell_type": "code",
   "execution_count": null,
   "metadata": {},
   "outputs": [],
   "source": [
    "df = pd.DataFrame({\n",
    "    'Home_Price_Index': home_prices,\n",
    "    'Mortgage_Rate': mortgage_rates,\n",
    "    'Unemployment_Rate': unemployment,\n",
    "    'Median_Income': income,\n",
    "    'Housing_Starts': housing_starts,\n",
    "    'CPI': cpi\n",
    "}, index=index)"
   ]
  },
  {
   "cell_type": "code",
   "execution_count": null,
   "metadata": {},
   "outputs": [],
   "source": [
    "df = home_prices.join([mortgage_rates, unemployment, income, housing_starts, cpi], how='inner')\n",
    "df.columns = ['Home_Price_Index', 'Mortgage_Rate', 'Unemployment_Rate', 'Median_Income', 'Housing_Starts', 'CPI']"
   ]
  },
  {
   "cell_type": "code",
   "execution_count": null,
   "metadata": {},
   "outputs": [],
   "source": [
    "print(df)\n"
   ]
  },
  {
   "cell_type": "code",
   "execution_count": null,
   "metadata": {},
   "outputs": [],
   "source": [
    "plt.figure(figsize=(14, 7))\n",
    "sns.heatmap(df.corr(), annot=True, cmap='coolwarm')\n",
    "plt.title('Correlation Matrix')\n",
    "plt.show()"
   ]
  }
 ],
 "metadata": {
  "kernelspec": {
   "display_name": ".venv_ds",
   "language": "python",
   "name": "python3"
  },
  "language_info": {
   "codemirror_mode": {
    "name": "ipython",
    "version": 3
   },
   "file_extension": ".py",
   "mimetype": "text/x-python",
   "name": "python",
   "nbconvert_exporter": "python",
   "pygments_lexer": "ipython3",
   "version": "3.9.13"
  }
 },
 "nbformat": 4,
 "nbformat_minor": 2
}
